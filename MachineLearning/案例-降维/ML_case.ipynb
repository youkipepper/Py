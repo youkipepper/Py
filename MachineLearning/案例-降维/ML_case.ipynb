{
 "cells": [
  {
   "cell_type": "code",
   "execution_count": 5,
   "metadata": {},
   "outputs": [],
   "source": [
    "# 1. 获取数据\n",
    "# 2. 合并表\n",
    "# 3. 找到 user_id 和 aisle 之间的关系\n",
    "# 4. PCA 降维"
   ]
  },
  {
   "cell_type": "code",
   "execution_count": 6,
   "metadata": {},
   "outputs": [],
   "source": [
    "import pandas as pd"
   ]
  },
  {
   "cell_type": "code",
   "execution_count": 16,
   "metadata": {},
   "outputs": [],
   "source": [
    "# 1. 获取数据\n",
    "order_products = pd.read_csv(\n",
    "    \"/Users/youkipepper/Desktop/Py/MachineLearning/案例-降维/instacart/order_products__prior.csv\")\n",
    "products = pd.read_csv(\n",
    "    \"/Users/youkipepper/Desktop/Py/MachineLearning/案例-降维/instacart/products.csv\")\n",
    "orders = pd.read_csv(\n",
    "    \"/Users/youkipepper/Desktop/Py/MachineLearning/案例-降维/instacart/orders.csv\")\n",
    "aisles = pd.read_csv(\n",
    "    \"/Users/youkipepper/Desktop/Py/MachineLearning/案例-降维/instacart/aisles.csv\")\n"
   ]
  },
  {
   "cell_type": "code",
   "execution_count": 19,
   "metadata": {},
   "outputs": [],
   "source": [
    "# 2. 合并表\n",
    "# 合并 aisle_id 和 products\n",
    "tab1 = pd.merge(aisles, products, on=[\"aisle_id\", \"aisle_id\"])\n"
   ]
  },
  {
   "cell_type": "code",
   "execution_count": 21,
   "metadata": {},
   "outputs": [],
   "source": [
    "tab2 = pd.merge(tab1, order_products, on=[\"product_id\", \"product_id\"])\n"
   ]
  },
  {
   "cell_type": "code",
   "execution_count": 22,
   "metadata": {},
   "outputs": [],
   "source": [
    "tab3 = pd.merge(tab2, orders, on=(\"order_id\", \"order_id\"))\n"
   ]
  },
  {
   "cell_type": "code",
   "execution_count": 31,
   "metadata": {},
   "outputs": [],
   "source": [
    "# 3. 找到user_id 和 aisle 之间的关系\n",
    "table = pd.crosstab(tab3[\"user_id\"], tab3[\"aisle\"])\n"
   ]
  },
  {
   "cell_type": "code",
   "execution_count": 35,
   "metadata": {},
   "outputs": [],
   "source": [
    "data = table[:10000]\n"
   ]
  },
  {
   "cell_type": "code",
   "execution_count": 34,
   "metadata": {},
   "outputs": [],
   "source": [
    "# 4. PCA降维\n",
    "from sklearn.decomposition import PCA"
   ]
  },
  {
   "cell_type": "code",
   "execution_count": 37,
   "metadata": {},
   "outputs": [],
   "source": [
    "# 1) 实例化一个转换器类\n",
    "transfor = PCA(n_components=0.95)\n",
    "\n",
    "# 2) 调用 fit_transform\n",
    "data_new = transfor.fit_transform(data)\n"
   ]
  },
  {
   "cell_type": "code",
   "execution_count": 38,
   "metadata": {},
   "outputs": [
    {
     "data": {
      "text/plain": [
       "(10000, 42)"
      ]
     },
     "execution_count": 38,
     "metadata": {},
     "output_type": "execute_result"
    }
   ],
   "source": [
    "data_new.shape"
   ]
  }
 ],
 "metadata": {
  "kernelspec": {
   "display_name": "Python 3.8.9 64-bit",
   "language": "python",
   "name": "python3"
  },
  "language_info": {
   "codemirror_mode": {
    "name": "ipython",
    "version": 3
   },
   "file_extension": ".py",
   "mimetype": "text/x-python",
   "name": "python",
   "nbconvert_exporter": "python",
   "pygments_lexer": "ipython3",
   "version": "3.8.9"
  },
  "orig_nbformat": 4,
  "vscode": {
   "interpreter": {
    "hash": "31f2aee4e71d21fbe5cf8b01ff0e069b9275f58929596ceb00d14d90e3e16cd6"
   }
  }
 },
 "nbformat": 4,
 "nbformat_minor": 2
}
