{
 "cells": [
  {
   "cell_type": "code",
   "execution_count": 5,
   "metadata": {},
   "outputs": [],
   "source": [
    "# 1. 获取数据\n",
    "# 2. 合并表\n",
    "# 3. 找到 user_id 和 aisle 之间的关系\n",
    "# 4. PCA 降维"
   ]
  },
  {
   "cell_type": "code",
   "execution_count": 6,
   "metadata": {},
   "outputs": [],
   "source": [
    "import pandas as pd"
   ]
  },
  {
   "cell_type": "code",
   "execution_count": 7,
   "metadata": {},
   "outputs": [],
   "source": [
    "# 1. 获取数据\n",
    "order_products = pd.read_csv(\n",
    "    \"/Users/youkipepper/Desktop/Py/MachineLearning/案例-降维/instacart/order_products__prior.csv\")\n",
    "products = pd.read_csv(\n",
    "    \"/Users/youkipepper/Desktop/Py/MachineLearning/案例-降维/instacart/products.csv\")\n",
    "ordera = pd.read_csv(\n",
    "    \"/Users/youkipepper/Desktop/Py/MachineLearning/案例-降维/instacart/orders.csv\")\n",
    "aiales = pd.read_csv(\n",
    "    \"/Users/youkipepper/Desktop/Py/MachineLearning/案例-降维/instacart/aisles.csv\")\n"
   ]
  },
  {
   "cell_type": "code",
   "execution_count": null,
   "metadata": {},
   "outputs": [],
   "source": [
    "# 2. 合并表"
   ]
  }
 ],
 "metadata": {
  "kernelspec": {
   "display_name": "Python 3.8.9 64-bit",
   "language": "python",
   "name": "python3"
  },
  "language_info": {
   "codemirror_mode": {
    "name": "ipython",
    "version": 3
   },
   "file_extension": ".py",
   "mimetype": "text/x-python",
   "name": "python",
   "nbconvert_exporter": "python",
   "pygments_lexer": "ipython3",
   "version": "3.8.9"
  },
  "orig_nbformat": 4,
  "vscode": {
   "interpreter": {
    "hash": "31f2aee4e71d21fbe5cf8b01ff0e069b9275f58929596ceb00d14d90e3e16cd6"
   }
  }
 },
 "nbformat": 4,
 "nbformat_minor": 2
}
