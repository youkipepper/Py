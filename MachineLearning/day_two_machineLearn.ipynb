{
 "cells": [
  {
   "cell_type": "code",
   "execution_count": 22,
   "metadata": {},
   "outputs": [],
   "source": [
    "from sklearn.datasets import load_iris\n",
    "from sklearn.model_selection import train_test_split\n",
    "from sklearn.preprocessing import StandardScaler\n",
    "from sklearn.neighbors import KNeighborsClassifier\n",
    "from sklearn.model_selection import GridSearchCV\n",
    "from sklearn.tree import DecisionTreeClassifier, export_graphviz\n"
   ]
  },
  {
   "cell_type": "code",
   "execution_count": 23,
   "metadata": {},
   "outputs": [],
   "source": [
    "def knn_iris():\n",
    "    \"\"\"\n",
    "    用 KNN 算法对鸢尾花进行分类\n",
    "    \"\"\"\n",
    "    # 1. 获取数据\n",
    "    iris = load_iris()\n",
    "\n",
    "    # 2. 划分数据集\n",
    "    x_train, x_test, y_train, y_test = train_test_split(\n",
    "        iris.data, iris.target, random_state=6)\n",
    "\n",
    "    # 3. 特征工程: 标准化\n",
    "    transfer = StandardScaler()\n",
    "    x_train = transfer.fit_transform(x_train)\n",
    "    x_test = transfer.transform(x_test)\n",
    "\n",
    "    # 4. KNN 算法预估器\n",
    "    estimator = KNeighborsClassifier(n_neighbors=3)\n",
    "    estimator.fit(x_train, y_train)\n",
    "\n",
    "    # 5. 模型评估\n",
    "    # 方法1: 直接比对真实值和预测值\n",
    "    y_predict = estimator.predict(x_test)\n",
    "    print(\"y_predict: \\n\", y_predict)\n",
    "    print(\"直接比对真实值和预测值: \\n\", y_test == y_predict)\n",
    "\n",
    "    # 方法2: 计算准确率\n",
    "    score = estimator.score(x_test, y_test)\n",
    "    print(\"准确率为: \\n\", score)\n",
    "    return None\n"
   ]
  },
  {
   "cell_type": "code",
   "execution_count": 24,
   "metadata": {},
   "outputs": [],
   "source": [
    "def knn_iris_gscv():\n",
    "    \"\"\"\n",
    "    用 KNN 算法对鸢尾花进行分类, 添加网络搜索和交叉验证\n",
    "    \"\"\"\n",
    "    # 1) 获取数据\n",
    "    iris = load_iris()\n",
    "\n",
    "    # 2) 划分数据集\n",
    "    x_train, x_test, y_train, y_test = train_test_split(\n",
    "        iris.data, iris.target, random_state=22)\n",
    "\n",
    "    # 3) 特征工程: 标准化\n",
    "    transfer = StandardScaler()\n",
    "    x_train = transfer.fit_transform(x_train)\n",
    "    x_test = transfer.transform(x_test)\n",
    "\n",
    "    # 4) KNN 算法预估器\n",
    "    estimator = KNeighborsClassifier()\n",
    "\n",
    "    # 加入网络搜索与交叉验证\n",
    "    # 参数准备\n",
    "    param_dict = {\"n_neighbors\": [1, 3, 5, 7, 9, 11]}\n",
    "    estimator = GridSearchCV(estimator, param_grid=param_dict, cv=10)\n",
    "    estimator.fit(x_train, y_train)\n",
    "\n",
    "    # 5) 模型评估\n",
    "    # 方法1: 直接对比真实值和预测值\n",
    "    y_predict = estimator.predict(x_test)\n",
    "    print(\"y_predict: \\n\", y_predict)\n",
    "    print(\"直接对比真实值和预测值: \\n\", y_test == y_predict)\n",
    "\n",
    "    # 方法2: 计算准确率\n",
    "    score = estimator.score(x_test, y_test)\n",
    "    print(\"准确率为: \\n\", score)\n",
    "\n",
    "    print(\"最佳参数为: \\n\", estimator.best_params_)\n",
    "    print(\"最佳结果为: \\n\", estimator.best_score_)\n",
    "    print(\"最佳估计器为: \\n\", estimator.best_estimator_)\n",
    "    print(\"最终交叉验证结果为: \\n\", estimator.cv_results_)\n",
    "\n",
    "    return None\n"
   ]
  },
  {
   "cell_type": "code",
   "execution_count": 25,
   "metadata": {},
   "outputs": [],
   "source": [
    "def decision_iris():\n",
    "    \"\"\"\n",
    "    用决策树对鸢尾花进行分类\n",
    "    \"\"\"\n",
    "    # 1) 获取数据集\n",
    "    iris = load_iris()\n",
    "\n",
    "    # 2) 划分数据集\n",
    "    x_train, x_test, y_train, y_test = train_test_split(\n",
    "        iris.data, iris.target, random_state=22)\n",
    "\n",
    "    # 3) 决策树预估器\n",
    "    estimator = DecisionTreeClassifier(criterion=\"entropy\")\n",
    "    estimator.fit(x_train, y_train)\n",
    "\n",
    "    # 4) 模型评估\n",
    "    # 方法1: 直接对比真实值和预测值\n",
    "    y_predict = estimator.predict(x_test)\n",
    "    print(\"y_predict: \\n\", y_predict)\n",
    "    print(\"直接对比真实值和预测值: \\n\", y_test == y_predict)\n",
    "\n",
    "    # 方法2: 计算准确率\n",
    "    score = estimator.score(x_test, y_test)\n",
    "    print(\"准确率为: \\n\", score)\n",
    "\n",
    "    # 可视化决策树\n",
    "    export_graphviz(estimator, out_file=\"iris_tree.dot\")\n",
    "\n",
    "    return None\n"
   ]
  },
  {
   "cell_type": "code",
   "execution_count": 26,
   "metadata": {},
   "outputs": [
    {
     "name": "stdout",
     "output_type": "stream",
     "text": [
      "y_predict: \n",
      " [0 2 1 2 1 1 1 1 1 0 2 1 2 2 0 2 1 1 1 1 0 2 0 1 2 0 2 2 2 1 0 0 1 1 1 0 0\n",
      " 0]\n",
      "直接对比真实值和预测值: \n",
      " [ True  True  True  True  True  True  True False  True  True  True  True\n",
      "  True  True  True  True  True  True False  True  True  True  True  True\n",
      "  True  True  True  True  True False  True  True  True  True  True  True\n",
      "  True  True]\n",
      "准确率为: \n",
      " 0.9210526315789473\n"
     ]
    }
   ],
   "source": [
    "if __name__ == \"__main__\":\n",
    "    # code1: 用 KNN 算法对鸢尾花进行分类\n",
    "    # knn_iris()\n",
    "    # code2: 利用KNN算法对鸢尾花进行分类, 添加网格搜索和交叉验证\n",
    "    # knn_iris_gscv()\n",
    "\n",
    "    # code4: 利用决策树对鸢尾花进行分类\n",
    "    decision_iris()"
   ]
  }
 ],
 "metadata": {
  "kernelspec": {
   "display_name": "Python 3.10.6 64-bit",
   "language": "python",
   "name": "python3"
  },
  "language_info": {
   "codemirror_mode": {
    "name": "ipython",
    "version": 3
   },
   "file_extension": ".py",
   "mimetype": "text/x-python",
   "name": "python",
   "nbconvert_exporter": "python",
   "pygments_lexer": "ipython3",
   "version": "3.10.6"
  },
  "orig_nbformat": 4,
  "vscode": {
   "interpreter": {
    "hash": "b0fa6594d8f4cbf19f97940f81e996739fb7646882a419484c72d19e05852a7e"
   }
  }
 },
 "nbformat": 4,
 "nbformat_minor": 2
}
