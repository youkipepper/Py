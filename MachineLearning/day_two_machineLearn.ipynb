{
 "cells": [
  {
   "cell_type": "code",
   "execution_count": 2,
   "metadata": {},
   "outputs": [],
   "source": [
    "from sklearn.datasets import load_iris\n",
    "from sklearn.model_selection import train_test_split\n",
    "from sklearn.preprocessing import StandardScaler\n",
    "from sklearn.neighbors import KNeighborsClassifier\n",
    "from sklearn.model_selection import GridSearchCV"
   ]
  },
  {
   "cell_type": "code",
   "execution_count": 1,
   "metadata": {},
   "outputs": [],
   "source": [
    "def knn_iris():\n",
    "    \"\"\"\n",
    "    用 KNN 算法对鸢尾花进行分类\n",
    "    \"\"\"\n",
    "    # 1. 获取数据\n",
    "    iris = load_iris()\n",
    "\n",
    "    # 2. 划分数据集\n",
    "    x_train, x_test, y_train, y_test = train_test_split(\n",
    "        iris.data, iris.target, random_state=6)\n",
    "\n",
    "    # 3. 特征工程: 标准化\n",
    "    transfer = StandardScaler()\n",
    "    x_train = transfer.fit_transform(x_train)\n",
    "    x_test = transfer.transform(x_test)\n",
    "\n",
    "    # 4. KNN 算法预估器\n",
    "    estimator = KNeighborsClassifier(n_neighbors=3)\n",
    "    estimator.fit(x_train, y_train)\n",
    "\n",
    "    # 5. 模型评估\n",
    "    # 方法1: 直接比对真实值和预测值\n",
    "    y_predict = estimator.predict(x_test)\n",
    "    print(\"y_predict: \\n\", y_predict)\n",
    "    print(\"直接比对真实值和预测值: \\n\", y_test == y_predict)\n",
    "\n",
    "    # 方法2: 计算准确率\n",
    "    score = estimator.score(x_test, y_test)\n",
    "    print(\"准确率为: \\n\", score)\n",
    "    return None\n"
   ]
  },
  {
   "cell_type": "code",
   "execution_count": 3,
   "metadata": {},
   "outputs": [],
   "source": [
    "def knn_iris_gscv():\n",
    "    \"\"\"\n",
    "    用 KNN 算法对鸢尾花进行分类, 添加网络搜索和交叉验证\n",
    "    \"\"\"\n",
    "    # 1) 获取数据\n",
    "    iris = load_iris()\n",
    "\n",
    "    # 2) 划分数据集\n",
    "    x_train, x_test, y_train, y_test = train_test_split(\n",
    "        iris.data, iris.target, random_state=22)\n",
    "\n",
    "    # 3) 特征工程: 标准化\n",
    "    transfer = StandardScaler()\n",
    "    x_train = transfer.fit_transform(x_train)\n",
    "    x_test = transfer.transform(x_test)\n",
    "\n",
    "    # 4) KNN 算法预估器\n",
    "    estimator = KNeighborsClassifier()\n",
    "\n",
    "    # 加入网络搜索与交叉验证\n",
    "    # 参数准备\n",
    "    param_dict = {\"n_neighbors\": [1, 3, 5, 7, 9, 11]}\n",
    "    estimator = GridSearchCV(estimator, param_grid=param_dict, cv=10)\n",
    "    estimator.fit(x_train, y_train)\n",
    "\n",
    "    # 5) 模型评估\n",
    "    # 方法1: 直接对比真实值和预测值\n",
    "    y_predict = estimator.predict(x_test)\n",
    "    print(\"y_predict: \\n\", y_predict)\n",
    "    print(\"直接对比真实值和预测值: \\n\", y_test == y_predict)\n",
    "\n",
    "    # 方法2: 计算准确率\n",
    "    score = estimator.score(x_test, y_test)\n",
    "    print(\"准确率为: \\n\", score)\n",
    "\n",
    "    print(\"最佳参数为: \\n\", estimator.best_params_)\n",
    "    print(\"最佳结果为: \\n\", estimator.best_score_)\n",
    "    print(\"最佳估计器为: \\n\", estimator.best_estimator_)\n",
    "    print(\"最终交叉验证结果为: \\n\", estimator.cv_results_)\n",
    "\n",
    "    return None\n"
   ]
  },
  {
   "cell_type": "code",
   "execution_count": 5,
   "metadata": {},
   "outputs": [
    {
     "name": "stdout",
     "output_type": "stream",
     "text": [
      "y_predict: \n",
      " [0 2 0 0 2 1 2 0 2 1 2 1 2 2 1 1 2 1 1 0 0 2 0 0 1 1 1 2 0 1 0 1 0 0 1 2 1\n",
      " 2]\n",
      "直接比对真实值和预测值: \n",
      " [ True  True  True  True  True  True  True  True  True  True  True  True\n",
      "  True  True  True False  True  True  True  True  True  True  True  True\n",
      "  True  True  True  True  True  True  True  True  True  True False  True\n",
      "  True  True]\n",
      "准确率为: \n",
      " 0.9473684210526315\n",
      "最佳参数为: \n",
      " {'n_neighbors': 11}\n",
      "最佳结果为: \n",
      " 0.9734848484848484\n",
      "最佳估计器为: \n",
      " KNeighborsClassifier(n_neighbors=11)\n",
      "交叉验证结果为: \n",
      " {'mean_fit_time': array([2.46381760e-04, 9.65833664e-05, 9.41514969e-05, 9.29117203e-05,\n",
      "       1.10650063e-04, 9.57489014e-05]), 'std_fit_time': array([4.07031047e-04, 2.06875349e-06, 6.34838436e-07, 1.81902595e-06,\n",
      "       1.96921190e-05, 2.20637041e-06]), 'mean_score_time': array([0.00039165, 0.00025673, 0.00025871, 0.00025949, 0.00029321,\n",
      "       0.00026369]), 'std_score_time': array([3.05778014e-04, 1.17183641e-05, 1.70773122e-05, 2.35299208e-05,\n",
      "       4.15034362e-05, 8.68315097e-06]), 'param_n_neighbors': masked_array(data=[1, 3, 5, 7, 9, 11],\n",
      "             mask=[False, False, False, False, False, False],\n",
      "       fill_value='?',\n",
      "            dtype=object), 'params': [{'n_neighbors': 1}, {'n_neighbors': 3}, {'n_neighbors': 5}, {'n_neighbors': 7}, {'n_neighbors': 9}, {'n_neighbors': 11}], 'split0_test_score': array([1., 1., 1., 1., 1., 1.]), 'split1_test_score': array([0.91666667, 0.91666667, 1.        , 0.91666667, 0.91666667,\n",
      "       0.91666667]), 'split2_test_score': array([1., 1., 1., 1., 1., 1.]), 'split3_test_score': array([1.        , 1.        , 1.        , 1.        , 0.90909091,\n",
      "       1.        ]), 'split4_test_score': array([1., 1., 1., 1., 1., 1.]), 'split5_test_score': array([0.90909091, 0.90909091, 1.        , 1.        , 1.        ,\n",
      "       1.        ]), 'split6_test_score': array([1., 1., 1., 1., 1., 1.]), 'split7_test_score': array([0.90909091, 0.90909091, 0.90909091, 0.90909091, 1.        ,\n",
      "       1.        ]), 'split8_test_score': array([1., 1., 1., 1., 1., 1.]), 'split9_test_score': array([0.90909091, 0.81818182, 0.81818182, 0.81818182, 0.81818182,\n",
      "       0.81818182]), 'mean_test_score': array([0.96439394, 0.95530303, 0.97272727, 0.96439394, 0.96439394,\n",
      "       0.97348485]), 'std_test_score': array([0.04365767, 0.0604591 , 0.05821022, 0.05965639, 0.05965639,\n",
      "       0.05742104]), 'rank_test_score': array([5, 6, 2, 3, 3, 1], dtype=int32)}\n"
     ]
    }
   ],
   "source": [
    "if __name__ == \"__main__\":\n",
    "    # code1: 用 KNN 算法对鸢尾花进行分类\n",
    "    # knn_iris()\n",
    "    # code2: 利用KNN算法对鸢尾花进行分类, 添加网格搜索和交叉验证\n",
    "    knn_iris_gscv()"
   ]
  }
 ],
 "metadata": {
  "kernelspec": {
   "display_name": "Python 3.10.6 64-bit",
   "language": "python",
   "name": "python3"
  },
  "language_info": {
   "codemirror_mode": {
    "name": "ipython",
    "version": 3
   },
   "file_extension": ".py",
   "mimetype": "text/x-python",
   "name": "python",
   "nbconvert_exporter": "python",
   "pygments_lexer": "ipython3",
   "version": "3.10.6"
  },
  "orig_nbformat": 4,
  "vscode": {
   "interpreter": {
    "hash": "b0fa6594d8f4cbf19f97940f81e996739fb7646882a419484c72d19e05852a7e"
   }
  }
 },
 "nbformat": 4,
 "nbformat_minor": 2
}
