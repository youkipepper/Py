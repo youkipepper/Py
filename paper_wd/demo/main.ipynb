{
 "cells": [
  {
   "cell_type": "code",
   "execution_count": null,
   "metadata": {},
   "outputs": [],
   "source": [
    "import os\n",
    "import sys\n",
    "project_path = '..'\n",
    "sys.path.append(project_path)\n",
    "from src.data_preprocessing import data_processing"
   ]
  },
  {
   "cell_type": "code",
   "execution_count": null,
   "metadata": {},
   "outputs": [],
   "source": [
    "import numpy as np\n",
    "import pandas as pd\n",
    "import torch"
   ]
  },
  {
   "cell_type": "code",
   "execution_count": null,
   "metadata": {},
   "outputs": [],
   "source": [
    "import matplotlib.pyplot as plt\n",
    "from matplotlib_inline import backend_inline\n",
    "backend_inline.set_matplotlib_formats('png')\n",
    "plt.rcParams['figure.dpi'] = 300 \n",
    "plt.rcParams['savefig.dpi'] = 300 \n",
    "from sklearn.preprocessing import MinMaxScaler\n",
    "from sklearn.metrics import mean_squared_error, r2_score, mean_absolute_error\n",
    "from sklearn.svm import SVR"
   ]
  },
  {
   "cell_type": "code",
   "execution_count": null,
   "metadata": {},
   "outputs": [],
   "source": [
    "df = pd.read_csv('../data/data_hn/hn_02-01/hn_02-01_2024-05-29.csv')\n",
    "df.shape"
   ]
  },
  {
   "cell_type": "code",
   "execution_count": null,
   "metadata": {},
   "outputs": [],
   "source": [
    "df = data_processing.filter_data(df, 'y', filter_step=100)\n",
    "df.shape"
   ]
  },
  {
   "cell_type": "code",
   "execution_count": null,
   "metadata": {},
   "outputs": [],
   "source": [
    "df = data_processing.filter_data(df, 'y', filter_step=1000)\n",
    "df.shape"
   ]
  },
  {
   "cell_type": "code",
   "execution_count": null,
   "metadata": {},
   "outputs": [],
   "source": [
    "df = data_processing.filter_data(df, 'y', filter_step=200)\n",
    "df.shape"
   ]
  },
  {
   "cell_type": "code",
   "execution_count": null,
   "metadata": {},
   "outputs": [],
   "source": [
    "df['video_record_time'] = pd.to_datetime(df['video_record_time'])\n",
    "df['y'] = df['y'].astype(float)\n",
    "df.set_index('video_record_time', inplace=True)"
   ]
  },
  {
   "cell_type": "code",
   "execution_count": null,
   "metadata": {},
   "outputs": [],
   "source": [
    "time = df.index\n",
    "data = df['y'].values\n",
    "time.shape, data.shape"
   ]
  },
  {
   "cell_type": "code",
   "execution_count": null,
   "metadata": {},
   "outputs": [],
   "source": [
    "sample_num = data.shape[0]\n",
    "predict_step = 15\n",
    "predict_num = 1"
   ]
  },
  {
   "cell_type": "code",
   "execution_count": null,
   "metadata": {},
   "outputs": [],
   "source": [
    "data_set = []\n",
    "for i in range(sample_num - predict_step - predict_num + 1):\n",
    "    data_set.append(data[i:i + predict_step + predict_num])\n",
    "data_set = np.array(data_set)\n",
    "time = time[:data_set.shape[0]]"
   ]
  },
  {
   "cell_type": "code",
   "execution_count": null,
   "metadata": {},
   "outputs": [],
   "source": [
    "# split data\n",
    "train_set, test_set = data_set[:int(data_set.shape[0] * 0.7)], data_set[int(data_set.shape[0] * 0.7):]\n",
    "x_train, y_train = train_set[:, :-1], train_set[:, -1].reshape(-1, 1)\n",
    "x_test, y_test = test_set[:, :-1], test_set[:, -1].reshape(-1, 1)\n",
    "x_train.shape, y_train.shape, x_test.shape, y_test.shape"
   ]
  },
  {
   "cell_type": "code",
   "execution_count": null,
   "metadata": {},
   "outputs": [],
   "source": [
    "# Nomalization\n",
    "scaler = MinMaxScaler(feature_range=(0, 1))\n",
    "x_train = scaler.fit_transform(x_train)\n",
    "y_train = scaler.fit_transform(y_train)\n",
    "x_test = scaler.fit_transform(x_test)\n",
    "y_test = scaler.fit_transform(y_test)\n",
    "x_train.shape, y_train.shape, x_test.shape, y_test.shape"
   ]
  },
  {
   "cell_type": "code",
   "execution_count": null,
   "metadata": {},
   "outputs": [],
   "source": [
    "# transfrom to tensor\n",
    "x_train = torch.tensor(x_train, dtype=torch.float32)\n",
    "y_train = torch.tensor(y_train, dtype=torch.float32)\n",
    "x_test = torch.tensor(x_test, dtype=torch.float32)\n",
    "y_test = torch.tensor(y_test, dtype=torch.float32)"
   ]
  },
  {
   "cell_type": "code",
   "execution_count": null,
   "metadata": {},
   "outputs": [],
   "source": [
    "svr = SVR(kernel='rbf', C=4.0, gamma=0.8, epsilon=0.01)\n",
    "svr.fit(x_train, y_train)"
   ]
  },
  {
   "cell_type": "code",
   "execution_count": null,
   "metadata": {},
   "outputs": [],
   "source": [
    "# predict\n",
    "res_train = svr.predict(x_train)\n",
    "res_test = svr.predict(x_test)"
   ]
  },
  {
   "cell_type": "code",
   "execution_count": null,
   "metadata": {},
   "outputs": [],
   "source": [
    "res_train = scaler.inverse_transform(res_train.reshape(-1, 1)).flatten()\n",
    "res_test = scaler.inverse_transform(res_test.reshape(-1, 1)).flatten()\n",
    "y_train_original = scaler.inverse_transform(y_train).flatten()\n",
    "y_test_original = scaler.inverse_transform(y_test).flatten()\n",
    "res_train.shape, res_test.shape, y_train_original.shape, y_test_original.shape"
   ]
  },
  {
   "cell_type": "code",
   "execution_count": null,
   "metadata": {},
   "outputs": [],
   "source": [
    "train_error = mean_squared_error(y_train_original, res_train)\n",
    "test_error = mean_squared_error(y_test_original, res_test)"
   ]
  },
  {
   "cell_type": "code",
   "execution_count": null,
   "metadata": {},
   "outputs": [],
   "source": [
    "y_train_original.shape, res_train.shape, y_test_original.shape, res_test.shape, time.shape"
   ]
  },
  {
   "cell_type": "code",
   "execution_count": null,
   "metadata": {},
   "outputs": [],
   "source": [
    "import matplotlib.dates as mdates\n",
    "\n",
    "plt.figure(figsize=(10,5))\n",
    "plt.plot(time[:len(y_train_original)], y_train_original, 'r-', label= 'Real Train')\n",
    "plt.plot(time[:len(y_train_original)], res_train, 'b-', label = 'Predicted Train')\n",
    "plt.legend()\n",
    "plt.xlabel('Predict Train Data')\n",
    "plt.ylabel('Predicted Value')\n",
    "plt.title(f'Train set prediction (MSE: {train_error})')\n",
    "plt.gca().xaxis.set_major_formatter(mdates.DateFormatter('%H:%M'))\n",
    "plt.grid()\n",
    "plt.show()"
   ]
  },
  {
   "cell_type": "code",
   "execution_count": null,
   "metadata": {},
   "outputs": [],
   "source": [
    "plt.figure(figsize=(10,5))\n",
    "plt.plot(time[len(y_train_original):], y_test_original, 'r-', label= 'Real Test')\n",
    "plt.plot(time[len(y_train_original):], res_test, 'b-', label = 'Predicted Test')\n",
    "plt.legend()\n",
    "plt.xlabel('Predict Test Data')\n",
    "plt.ylabel('Predicted Value')\n",
    "plt.title(f'Test set prediction (MSE: {test_error})')\n",
    "plt.gca().xaxis.set_major_formatter(mdates.DateFormatter('%H:%M'))\n",
    "plt.grid(True)\n",
    "plt.show()"
   ]
  },
  {
   "cell_type": "code",
   "execution_count": null,
   "metadata": {},
   "outputs": [],
   "source": [
    "train_r2 = r2_score(y_train_original, res_train)\n",
    "test_r2 = r2_score(y_test_original, res_test)\n",
    "train_mae = mean_absolute_error(y_train_original, res_train)\n",
    "test_mae = mean_absolute_error(y_test_original, res_test)\n",
    "train_mbe = np.mean(y_train_original - res_train)\n",
    "test_mbe = np.mean(y_test_original - res_test)\n",
    "print(f'Train R2: {train_r2}, Test R2: {test_r2}')\n",
    "print(f'Train MAE: {train_mae}, Test MAE: {test_mae}')\n",
    "print(f'Train MBE: {train_mbe}, Test MBE: {test_mbe}')"
   ]
  },
  {
   "cell_type": "code",
   "execution_count": null,
   "metadata": {},
   "outputs": [],
   "source": [
    "plt.figure(figsize=(10,5))\n",
    "plt.scatter(y_train_original, res_train, c='b', s=25)\n",
    "plt.plot([y_train_original.min(), y_train_original.max()], [y_train_original.min(), y_train_original.max()], 'k--', lw=2)\n",
    "plt.xlabel('Real Train')\n",
    "plt.ylabel('Predicted Train')\n",
    "plt.title(f'Train set prediction vs Real')\n",
    "plt.grid()\n",
    "plt.show()"
   ]
  },
  {
   "cell_type": "code",
   "execution_count": null,
   "metadata": {},
   "outputs": [],
   "source": [
    "plt.figure(figsize=(10,5))\n",
    "plt.scatter(y_test_original, res_test, c='b', s=25)\n",
    "plt.plot([y_test_original.min(), y_test_original.max()], [y_test_original.min(), y_test_original.max()], 'k--', lw=2)\n",
    "plt.xlabel('Real Test')\n",
    "plt.ylabel('Predicted Test')\n",
    "plt.title(f'Test set prediction vs Real')\n",
    "plt.grid()\n",
    "plt.show()"
   ]
  }
 ],
 "metadata": {
  "kernelspec": {
   "display_name": "py3x",
   "language": "python",
   "name": "python3"
  },
  "language_info": {
   "codemirror_mode": {
    "name": "ipython",
    "version": 3
   },
   "file_extension": ".py",
   "mimetype": "text/x-python",
   "name": "python",
   "nbconvert_exporter": "python",
   "pygments_lexer": "ipython3",
   "version": "3.10.12"
  }
 },
 "nbformat": 4,
 "nbformat_minor": 2
}
